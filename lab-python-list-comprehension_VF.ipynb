{
 "cells": [
  {
   "cell_type": "markdown",
   "id": "25d7736c-ba17-4aff-b6bb-66eba20fbf4e",
   "metadata": {},
   "source": [
    "# Lab | List, Dict and Set Comprehension"
   ]
  },
  {
   "cell_type": "markdown",
   "id": "7dd3cbde-675a-4b81-92c3-f728846dbe06",
   "metadata": {},
   "source": [
    "## Exercise: Managing Customer Orders Optimized with Comprehension"
   ]
  },
  {
   "cell_type": "markdown",
   "id": "5d500160-2fb7-4777-b5e4-09d45ebaf328",
   "metadata": {},
   "source": [
    "In the previous exercise, you developed a program to manage customer orders and inventory. Now, let's take it a step further and incorporate comprehension into your code.\n",
    "\n",
    "Follow the steps below to complete the exercise:\n",
    "\n",
    "1. Review your code from the previous exercise and identify areas where you can apply comprehension to simplify and streamline your code. \n",
    "\n",
    "    - *Hint: Apply it to initialize inventory, updating the inventory and printing the updated inventory.*\n",
    "    \n",
    "    - For example, in initializing the inventory, we could have:\n",
    "    \n",
    "        ```python\n",
    "        def initialize_inventory(products):\n",
    "            inventory = {product: int(input(f\"Enter the quantity of {product}s available: \")) for product in products}\n",
    "            return inventory\n",
    "\n",
    "        ```\n",
    "<br>\n",
    "    \n",
    "    \n",
    "2. Modify the function get_customer_orders so it prompts the user to enter the number of customer orders and gathers the product names using a loop and user input. Use comprehension.\n",
    "\n",
    "3. Add a new function to calculate the total price of the customer order. For each product in customer_orders, prompt the user to enter the price of that product. Use comprehension to calculate the total price. Note: assume that the user can only have 1 unit of each product.\n",
    "\n",
    "4. Modify the update_inventory function to remove the product from the inventory if its quantity becomes zero after fulfilling the customer orders. Use comprehension to filter out the products with a quantity of zero from the inventory.\n",
    "\n",
    "5. Print the total price of the customer order.\n",
    "\n",
    "Your code should produce output similar to the following:\n",
    "\n",
    "```python\n",
    "Enter the quantity of t-shirts available:  5\n",
    "Enter the quantity of mugs available:  4\n",
    "Enter the quantity of hats available:  3\n",
    "Enter the quantity of books available:  2\n",
    "Enter the quantity of keychains available:  1\n",
    "Enter the number of customer orders:  2\n",
    "Enter the name of a product that a customer wants to order:  hat\n",
    "Enter the name of a product that a customer wants to order:  keychain\n",
    "\n",
    "Order Statistics:\n",
    "Total Products Ordered: 2\n",
    "Percentage of Unique Products Ordered: 40.0\n",
    "\n",
    "Updated Inventory:\n",
    "t-shirt: 5\n",
    "mug: 4\n",
    "hat: 2\n",
    "book: 2\n",
    "Enter the price of keychain:  5\n",
    "Enter the price of hat:  10\n",
    "Total Price: 15.0\n",
    "\n",
    "```\n"
   ]
  },
  {
   "cell_type": "code",
   "execution_count": null,
   "id": "e26da45e-5554-46c8-a479-152e19a61beb",
   "metadata": {},
   "outputs": [],
   "source": [
    "#TEST"
   ]
  },
  {
   "cell_type": "code",
   "execution_count": null,
   "id": "c16cb096-b96e-42ab-834f-d89a055e43da",
   "metadata": {},
   "outputs": [
    {
     "name": "stdin",
     "output_type": "stream",
     "text": [
      "Entrez la quantité disponible pour 't-shirt':  20\n",
      "Entrez la quantité disponible pour 'mug':  20\n",
      "Entrez la quantité disponible pour 'hat':  20\n",
      "Entrez la quantité disponible pour 'book':  20\n",
      "Entrez la quantité disponible pour 'keychain':  20\n",
      "Entrez le nombre de commandes clients :  2\n",
      "Nom du produit que vous souhaitez commander (1/2) :  hat\n",
      "Quantité que vous souhaitez commander :  10\n",
      "Nom du produit que vous souhaitez commander (2/2) :  hat\n",
      "Quantité que vous souhaitez commander :  5\n"
     ]
    },
    {
     "name": "stdout",
     "output_type": "stream",
     "text": [
      "{('hat', 10), ('hat', 5)}\n",
      "Inventaire mis à jour :\n",
      "hat: 15\n"
     ]
    }
   ],
   "source": [
    "# Définir les produits disponibles\n",
    "products = [\"t-shirt\", \"mug\", \"hat\", \"book\", \"keychain\"]\n",
    "\n",
    "# Initialiser l'inventaire avec des quantités pour chaque produit\n",
    "inventory = {product: int(input(f\"Entrez la quantité disponible pour '{product}': \")) for product in products }\n",
    "\n",
    "# Fonction pour saisir les commandes des clients\n",
    "def saisir_commandes():\n",
    "    num_orders = int(input(\"Entrez le nombre de commandes clients : \"))\n",
    "    customer_orders = {(input(f\"Nom du produit que vous souhaitez commander ({i+1}/{num_orders}) : \"), \n",
    "                        int(input(f\"Quantité que vous souhaitez commander : \"))) \n",
    "                       for i in range(num_orders)}\n",
    "    print(customer_orders)\n",
    "    return customer_orders\n",
    "\n",
    "# Appel de la fonction pour saisir les commandes\n",
    "customer_orders = saisir_commandes()\n",
    "\n",
    "# Mettre à jour l'inventaire en soustrayant les quantités des produits commandés\n",
    "inventory = {product: (inventory[product] - quantity) for product, quantity in customer_orders if product in inventory}\n",
    "\n",
    "# Filtrer les produits dont la quantité est zéro et afficher l'inventaire mis à jour\n",
    "inventory = {product: quantity for product, quantity in inventory.items() if quantity > 0}\n",
    "print(\"Inventaire mis à jour :\")\n",
    "for product, quantity in inventory.items():\n",
    "    print(f\"{product}: {quantity}\")\n",
    "\n",
    "#impossible de faire un contrôle sur le type d'entrée par l'utilisateur (càd ctrl que la valeur saisie est un nb entier positif)\n",
    "\n",
    "# Fonction pour calculer le prix total des commandes clients\n",
    "def calculate_total_price(customer_orders):\n",
    "    total_price = sum(float(input(f\"Entrez le prix pour '{product}': \")) for product, _ in customer_orders)\n",
    "    return total_price\n",
    "\n",
    "# Fonction pour mettre à jour l'inventaire\n",
    "def mettre_a_jour_inventaire(inventory, customer_orders):\n",
    "    updated_inventory = {product: inventory[product] - sum(quantity for p, quantity in customer_orders if p == product)\n",
    "                         for product in inventory}\n",
    "    updated_inventory = {product: quantity for product, quantity in updated_inventory.items() if quantity > 0}\n",
    "    return updated_inventory\n",
    "\n",
    "# Mise à jour de l'inventaire\n",
    "inventory = mettre_a_jour_inventaire(inventory, customer_orders)\n",
    "\n",
    "# Calcul du prix total des commandes clients\n",
    "total_price = calculate_total_price(customer_orders)\n",
    "\n",
    "# Affichage de l'inventaire mis à jour\n",
    "print(\"Inventaire mis à jour :\")\n",
    "for product, quantity in inventory.items():\n",
    "    print(f\"{product}: {quantity}\")\n",
    "\n",
    "# Affichage du prix total des commandes\n",
    "print(f\"Prix total des commandes : {total_price:.2f}\")\n",
    "\n",
    "#Je n'arrive pas à obtenir le prix par nombre de commandes et mais seulement par type de commandes"
   ]
  },
  {
   "cell_type": "code",
   "execution_count": null,
   "id": "184b904e-bc28-495e-973d-59ab469caf52",
   "metadata": {},
   "outputs": [],
   "source": []
  }
 ],
 "metadata": {
  "kernelspec": {
   "display_name": "Python 3 (ipykernel)",
   "language": "python",
   "name": "python3"
  },
  "language_info": {
   "codemirror_mode": {
    "name": "ipython",
    "version": 3
   },
   "file_extension": ".py",
   "mimetype": "text/x-python",
   "name": "python",
   "nbconvert_exporter": "python",
   "pygments_lexer": "ipython3",
   "version": "3.11.7"
  }
 },
 "nbformat": 4,
 "nbformat_minor": 5
}
